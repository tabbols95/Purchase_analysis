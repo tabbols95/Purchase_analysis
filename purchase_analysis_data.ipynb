{
 "cells": [
  {
   "cell_type": "markdown",
   "id": "5be2ba89",
   "metadata": {},
   "source": [
    "### Анализ полученных данных"
   ]
  },
  {
   "cell_type": "code",
   "execution_count": 1,
   "id": "b9df6295",
   "metadata": {},
   "outputs": [],
   "source": [
    "import pandas as pd\n",
    "import numpy as np\n",
    "import re # рабоота с регулярными выражениями\n",
    "\n",
    "# импорт функций\n",
    "from func_replace_letter import replace_letter as rep_let\n",
    "\n",
    "# визуализация данных\n",
    "import seaborn as sns\n",
    "import matplotlib.pyplot as plt\n",
    "\n",
    "%matplotlib inline"
   ]
  },
  {
   "cell_type": "code",
   "execution_count": 2,
   "id": "e544a702",
   "metadata": {},
   "outputs": [],
   "source": [
    "# Настройки визуализации seaborn\n",
    "sns.set(\n",
    "    font_scale=0.85\n",
    ")"
   ]
  },
  {
   "cell_type": "code",
   "execution_count": 3,
   "id": "a0361385",
   "metadata": {},
   "outputs": [],
   "source": [
    "data = pd.read_csv('data.csv', sep=';')"
   ]
  },
  {
   "cell_type": "code",
   "execution_count": 4,
   "id": "b726ad79",
   "metadata": {},
   "outputs": [],
   "source": [
    "data['dateTime'] = pd.to_datetime(data.dateTime, format='%Y-%m-%d %H:%M:%S')\n",
    "# переводим столбец в формат даты и времени"
   ]
  },
  {
   "cell_type": "markdown",
   "id": "edfc610f",
   "metadata": {},
   "source": [
    "Далее не много посмотрим на данные. В результате предварительного анализа, можем обнаружить, что наши данные имеют не корректное представление. Некоторые схожие с русскими буквами представлены на английском языке. Для того, чтобы это обнаружить, воспользуемся функцией `lower()`, которая переводит все символы в нижний регистр."
   ]
  },
  {
   "cell_type": "code",
   "execution_count": 5,
   "id": "b611c0cf",
   "metadata": {},
   "outputs": [
    {
     "data": {
      "text/plain": [
       "0           cалаt \"oлиbьe\" (сoбствeh =\n",
       "1      шоkoлад (мон' дэлис руcь) \"ми =\n",
       "2      печеньe (тулa) maффин \"ильинс =\n",
       "3      cыpоk глазир. (б.ю.aлеkсahдpо =\n",
       "4      бx: бymагa тyалетhая \"mягkий  =\n",
       "                    ...               \n",
       "321         п/ф карбoнад cвиhoй (п/ф =\n",
       "322         pыба koпч.(арт-pыба) 3уб =\n",
       "323    cmetahа (toтьмa) \"boлогoдская =\n",
       "324    cmеtаhа (тотьma) \"bолoгoдckaя =\n",
       "325     твоpoг (тотьмa) oбeзжирehhый =\n",
       "Name: productName, Length: 326, dtype: object"
      ]
     },
     "execution_count": 5,
     "metadata": {},
     "output_type": "execute_result"
    }
   ],
   "source": [
    "data.productName.str.lower()"
   ]
  },
  {
   "cell_type": "markdown",
   "id": "97a22860",
   "metadata": {},
   "source": [
    "Чтобы устранить не корректный ввод данных, создадим функцию `replace_letter`, которая заменяет английские символы на русские `k -> к` и возвращает исправленное наименование товара в нижнем регистре.\n",
    "\n",
    "Функция описана в файле `func_replace_letter.py`"
   ]
  },
  {
   "cell_type": "code",
   "execution_count": 6,
   "id": "0877bc82",
   "metadata": {},
   "outputs": [],
   "source": [
    "data['productName'] = data.productName.apply(rep_let)"
   ]
  },
  {
   "cell_type": "code",
   "execution_count": 7,
   "id": "b8c70d60",
   "metadata": {},
   "outputs": [
    {
     "name": "stdout",
     "output_type": "stream",
     "text": [
      "Всего кол-во позиций:\t326\n",
      "Всего кол-во чеков:\t84\n"
     ]
    }
   ],
   "source": [
    "print('Всего кол-во позиций:', data.shape[0], sep='\\t')\n",
    "# обратим внимание, что мы имеем 326 уникальных позиций товара\n",
    "print('Всего кол-во чеков:', data.dateTime.nunique(), sep='\\t')\n",
    "# а также данные содержат всего 84 чека в промежутке с 1 апр.2022 по 8 нояб.2022"
   ]
  },
  {
   "cell_type": "markdown",
   "id": "15898f63",
   "metadata": {},
   "source": [
    "Данные загружены и отредактированы. С 1 апреля по 8 ноября имеется всего 84 чека, что является незначительным для такого промежутка времени. Сгруппируем данные по дате и визуализируем общую сумму покупок в каждом месяце."
   ]
  },
  {
   "cell_type": "code",
   "execution_count": 8,
   "id": "6321aa35",
   "metadata": {},
   "outputs": [],
   "source": [
    "data_group_date = data \\\n",
    "    .groupby('dateTime', as_index=False) \\\n",
    "    .agg({'purchaseAmount': 'sum'})"
   ]
  },
  {
   "cell_type": "code",
   "execution_count": 9,
   "id": "90a903f3",
   "metadata": {},
   "outputs": [],
   "source": [
    "data_group_month = data.set_index(data.dateTime).purchaseAmount.resample('M').sum().to_frame().reset_index()"
   ]
  },
  {
   "cell_type": "code",
   "execution_count": 10,
   "id": "d6719f19",
   "metadata": {},
   "outputs": [
    {
     "data": {
      "image/png": "[encoded data removed]",
      "text/plain": [
       "<Figure size 1050x450 with 1 Axes>"
      ]
     },
     "metadata": {},
     "output_type": "display_data"
    }
   ],
   "source": [
    "plt.figure(figsize=(10.5, 4.5))\n",
    "ax = sns.barplot(data=data_group_month, x='dateTime', y='purchaseAmount',\n",
    "                 palette=\"flare\") # строим график\n",
    "ax.set(xlabel='Дата покупки', ylabel='Сумма покупки', title='Динамика покупок') # именуем оси, наименовние графика\n",
    "ax.set_xticklabels(data_group_month.dateTime.dt.date)\n",
    "sns.despine() # убираем часть рамки\n",
    "plt.show() # печатаем график"
   ]
  },
  {
   "cell_type": "markdown",
   "id": "d2c6988d",
   "metadata": {},
   "source": [
    "По данному графику можно сделать вывод, что с `апреля` по `июль` сумма покупок незначительна, поэтому для дальнейшего анализа оставим в выборке значения с `августа 2022` года."
   ]
  },
  {
   "cell_type": "code",
   "execution_count": 11,
   "id": "169f31e7",
   "metadata": {},
   "outputs": [],
   "source": [
    "data_active = data.query('dateTime > \\'2022-07-31\\'').reset_index(drop=True)\n",
    "# отбираем данные с августа 2022 года"
   ]
  },
  {
   "cell_type": "markdown",
   "id": "b9e65ec5",
   "metadata": {},
   "source": [
    "Для начала посмотрим частоту встречаемости каждой позиции / кол-во и объем покупок каждого товара и выберем наиболее популярные позиции."
   ]
  },
  {
   "cell_type": "code",
   "execution_count": 12,
   "id": "d5da4902",
   "metadata": {},
   "outputs": [
    {
     "data": {
      "text/plain": [
       "корм д/кошек \"реrfест fiт\" 75 =     17\n",
       "для розницы: пакет-майка малый =    14\n",
       "хлеб (вологодский хк) \"дарниц =     14\n",
       "газ.напиток (кириллов) о,5л с =     12\n",
       "корм д/кошек \"шеба\" 75г в асс =     11\n",
       "Name: productName, dtype: int64"
      ]
     },
     "execution_count": 12,
     "metadata": {},
     "output_type": "execute_result"
    }
   ],
   "source": [
    "data_active.productName.value_counts().head()"
   ]
  },
  {
   "cell_type": "markdown",
   "id": "5fe98508",
   "metadata": {},
   "source": [
    "По представленным выше данным мы видим `топ-5` позиций пользователя. На втором месте находится `пакет` - данный товар исключим из нашего `DataFrame` т.к. он не представляет для нас интереса."
   ]
  },
  {
   "cell_type": "code",
   "execution_count": 13,
   "id": "da56e8b1",
   "metadata": {},
   "outputs": [],
   "source": [
    "data_active = data_active.drop(index = data_active \\\n",
    "    .query('productName == \\'для розницы: пакет-майка малый =\\'') \\\n",
    "    .index)"
   ]
  },
  {
   "cell_type": "markdown",
   "id": "7d35b88d",
   "metadata": {},
   "source": [
    "```python\n",
    "data_active.to_excel('data.xlsx')\n",
    "# сохраним данные в Excel для наглядного представления данных\n",
    "```"
   ]
  },
  {
   "cell_type": "code",
   "execution_count": 14,
   "id": "4f3a2517",
   "metadata": {},
   "outputs": [
    {
     "data": {
      "text/plain": [
       "корм д/кошек \"реrfест fiт\" 75 =    17\n",
       "хлеб (вологодский хк) \"дарниц =    14\n",
       "газ.напиток (кириллов) о,5л с =    12\n",
       "корм д/кошек \"шеба\" 75г в асс =    11\n",
       "фрукты: бананы 1кг        =         9\n",
       "Name: productName, dtype: int64"
      ]
     },
     "execution_count": 14,
     "metadata": {},
     "output_type": "execute_result"
    }
   ],
   "source": [
    "data_active.productName.value_counts().head()"
   ]
  },
  {
   "cell_type": "code",
   "execution_count": 15,
   "id": "fae2aa1c",
   "metadata": {},
   "outputs": [],
   "source": [
    "top_5_product = data_active.productName.value_counts().head().index\n",
    "# топ-5 наиболее популярных продуктов"
   ]
  },
  {
   "cell_type": "code",
   "execution_count": 16,
   "id": "1b221736",
   "metadata": {},
   "outputs": [],
   "source": [
    "data_active = data_active.assign(month=data_active.dateTime.dt.month)"
   ]
  },
  {
   "cell_type": "code",
   "execution_count": 17,
   "id": "873ee45c",
   "metadata": {},
   "outputs": [],
   "source": [
    "data_top_5_product = data_active \\\n",
    "    .query('productName in @top_5_product')[['month', 'productName']]"
   ]
  },
  {
   "cell_type": "code",
   "execution_count": 18,
   "id": "ab267b52",
   "metadata": {},
   "outputs": [],
   "source": [
    "top_5_product_quantity = data_active \\\n",
    "    .groupby('productName', as_index=False) \\\n",
    "    .agg({'quantity': 'sum'}) \\\n",
    "    .sort_values('quantity', ascending=False) \\\n",
    "    .head()\n",
    "# группировка по кол-ву купленного товара"
   ]
  },
  {
   "cell_type": "code",
   "execution_count": 19,
   "id": "811b91ec",
   "metadata": {},
   "outputs": [
    {
     "data": {
      "text/html": [
       "<div>\n",
       "<style scoped>\n",
       "    .dataframe tbody tr th:only-of-type {\n",
       "        vertical-align: middle;\n",
       "    }\n",
       "\n",
       "    .dataframe tbody tr th {\n",
       "        vertical-align: top;\n",
       "    }\n",
       "\n",
       "    .dataframe thead th {\n",
       "        text-align: right;\n",
       "    }\n",
       "</style>\n",
       "<table border=\"1\" class=\"dataframe\">\n",
       "  <thead>\n",
       "    <tr style=\"text-align: right;\">\n",
       "      <th></th>\n",
       "      <th>productName</th>\n",
       "      <th>quantity</th>\n",
       "    </tr>\n",
       "  </thead>\n",
       "  <tbody>\n",
       "    <tr>\n",
       "      <th>39</th>\n",
       "      <td>корм д/кошек \"реrfест fiт\" 75 =</td>\n",
       "      <td>67.0</td>\n",
       "    </tr>\n",
       "    <tr>\n",
       "      <th>41</th>\n",
       "      <td>корм д/кошек \"шеба\" 75г в асс =</td>\n",
       "      <td>28.0</td>\n",
       "    </tr>\n",
       "    <tr>\n",
       "      <th>40</th>\n",
       "      <td>корм д/кошек \"реrfест fiт\" па =</td>\n",
       "      <td>17.0</td>\n",
       "    </tr>\n",
       "    <tr>\n",
       "      <th>18</th>\n",
       "      <td>газ.напиток (кириллов) о,5л с =</td>\n",
       "      <td>16.0</td>\n",
       "    </tr>\n",
       "    <tr>\n",
       "      <th>135</th>\n",
       "      <td>хлеб (вологодский хк) \"дарниц =</td>\n",
       "      <td>14.0</td>\n",
       "    </tr>\n",
       "  </tbody>\n",
       "</table>\n",
       "</div>"
      ],
      "text/plain": [
       "                         productName  quantity\n",
       "39   корм д/кошек \"реrfест fiт\" 75 =      67.0\n",
       "41   корм д/кошек \"шеба\" 75г в асс =      28.0\n",
       "40   корм д/кошек \"реrfест fiт\" па =      17.0\n",
       "18   газ.напиток (кириллов) о,5л с =      16.0\n",
       "135  хлеб (вологодский хк) \"дарниц =      14.0"
      ]
     },
     "execution_count": 19,
     "metadata": {},
     "output_type": "execute_result"
    }
   ],
   "source": [
    "top_5_product_quantity"
   ]
  },
  {
   "cell_type": "code",
   "execution_count": 20,
   "id": "2f229710",
   "metadata": {},
   "outputs": [],
   "source": [
    "top_5_product_amount = data_active \\\n",
    "    .groupby('productName', as_index=False) \\\n",
    "    .agg({'purchaseAmount': 'sum'}) \\\n",
    "    .sort_values('purchaseAmount', ascending=False) \\\n",
    "    .head()"
   ]
  },
  {
   "cell_type": "code",
   "execution_count": 21,
   "id": "aa3cf405",
   "metadata": {},
   "outputs": [
    {
     "data": {
      "text/html": [
       "<div>\n",
       "<style scoped>\n",
       "    .dataframe tbody tr th:only-of-type {\n",
       "        vertical-align: middle;\n",
       "    }\n",
       "\n",
       "    .dataframe tbody tr th {\n",
       "        vertical-align: top;\n",
       "    }\n",
       "\n",
       "    .dataframe thead th {\n",
       "        text-align: right;\n",
       "    }\n",
       "</style>\n",
       "<table border=\"1\" class=\"dataframe\">\n",
       "  <thead>\n",
       "    <tr style=\"text-align: right;\">\n",
       "      <th></th>\n",
       "      <th>productName</th>\n",
       "      <th>purchaseAmount</th>\n",
       "    </tr>\n",
       "  </thead>\n",
       "  <tbody>\n",
       "    <tr>\n",
       "      <th>39</th>\n",
       "      <td>корм д/кошек \"реrfест fiт\" 75 =</td>\n",
       "      <td>1736.63</td>\n",
       "    </tr>\n",
       "    <tr>\n",
       "      <th>37</th>\n",
       "      <td>корм д/кошек \"реrfест fiт\" 1 =</td>\n",
       "      <td>1627.17</td>\n",
       "    </tr>\n",
       "    <tr>\n",
       "      <th>78</th>\n",
       "      <td>пиво (бавария) \"семен дежнев =</td>\n",
       "      <td>939.93</td>\n",
       "    </tr>\n",
       "    <tr>\n",
       "      <th>41</th>\n",
       "      <td>корм д/кошек \"шеба\" 75г в асс =</td>\n",
       "      <td>795.72</td>\n",
       "    </tr>\n",
       "    <tr>\n",
       "      <th>18</th>\n",
       "      <td>газ.напиток (кириллов) о,5л с =</td>\n",
       "      <td>664.24</td>\n",
       "    </tr>\n",
       "  </tbody>\n",
       "</table>\n",
       "</div>"
      ],
      "text/plain": [
       "                        productName  purchaseAmount\n",
       "39  корм д/кошек \"реrfест fiт\" 75 =         1736.63\n",
       "37   корм д/кошек \"реrfест fiт\" 1 =         1627.17\n",
       "78   пиво (бавария) \"семен дежнев =          939.93\n",
       "41  корм д/кошек \"шеба\" 75г в асс =          795.72\n",
       "18  газ.напиток (кириллов) о,5л с =          664.24"
      ]
     },
     "execution_count": 21,
     "metadata": {},
     "output_type": "execute_result"
    }
   ],
   "source": [
    "top_5_product_amount"
   ]
  },
  {
   "cell_type": "markdown",
   "id": "07afb7c4",
   "metadata": {},
   "source": [
    "Можем обратить внимание, что во всех трёх выборках встречается `корм д/кошек` и `газ.напиток`. Отсюда можем сделать предположение, что эти товары являются наиболее интересными покупателю.\n",
    "\n",
    "Но обратим внимание, что однотипный товар (например, `корм д/кошек`) занимает сразу несколько позиций нашего `топ-списка`. Попробуем преобразовать данный товар. Для этого воспользуемся регулярными выражениями и найдем все позиции `корм д/кошек`."
   ]
  },
  {
   "cell_type": "code",
   "execution_count": 22,
   "id": "38c8f48a",
   "metadata": {},
   "outputs": [],
   "source": [
    "data_active_product_cat = data_active[data_active.productName.str.contains('^корм д/кошек', regex=True)]"
   ]
  },
  {
   "cell_type": "code",
   "execution_count": 23,
   "id": "d6b393c9",
   "metadata": {},
   "outputs": [
    {
     "data": {
      "text/html": [
       "<div>\n",
       "<style scoped>\n",
       "    .dataframe tbody tr th:only-of-type {\n",
       "        vertical-align: middle;\n",
       "    }\n",
       "\n",
       "    .dataframe tbody tr th {\n",
       "        vertical-align: top;\n",
       "    }\n",
       "\n",
       "    .dataframe thead th {\n",
       "        text-align: right;\n",
       "    }\n",
       "</style>\n",
       "<table border=\"1\" class=\"dataframe\">\n",
       "  <thead>\n",
       "    <tr style=\"text-align: right;\">\n",
       "      <th></th>\n",
       "      <th>dateTime</th>\n",
       "      <th>userInn</th>\n",
       "      <th>productName</th>\n",
       "      <th>price</th>\n",
       "      <th>quantity</th>\n",
       "      <th>purchaseAmount</th>\n",
       "      <th>month</th>\n",
       "    </tr>\n",
       "  </thead>\n",
       "  <tbody>\n",
       "    <tr>\n",
       "      <th>103</th>\n",
       "      <td>2022-09-19 18:53:00</td>\n",
       "      <td>352500101378</td>\n",
       "      <td>корм д/кошек \"реrfест fiт\" 1 =</td>\n",
       "      <td>579.99</td>\n",
       "      <td>1.0</td>\n",
       "      <td>579.99</td>\n",
       "      <td>9</td>\n",
       "    </tr>\n",
       "    <tr>\n",
       "      <th>51</th>\n",
       "      <td>2022-08-26 20:02:00</td>\n",
       "      <td>352500101378</td>\n",
       "      <td>корм д/кошек \"реrfест fiт\" 1 =</td>\n",
       "      <td>559.99</td>\n",
       "      <td>1.0</td>\n",
       "      <td>559.99</td>\n",
       "      <td>8</td>\n",
       "    </tr>\n",
       "    <tr>\n",
       "      <th>254</th>\n",
       "      <td>2022-10-27 13:48:00</td>\n",
       "      <td>352500101378</td>\n",
       "      <td>корм д/кошек \"реrfест fiт\" 1 =</td>\n",
       "      <td>487.19</td>\n",
       "      <td>1.0</td>\n",
       "      <td>487.19</td>\n",
       "      <td>10</td>\n",
       "    </tr>\n",
       "    <tr>\n",
       "      <th>170</th>\n",
       "      <td>2022-10-08 16:41:00</td>\n",
       "      <td>352500101378</td>\n",
       "      <td>корм д/кошек \"реrfест fiт\" 6 =</td>\n",
       "      <td>315.49</td>\n",
       "      <td>1.0</td>\n",
       "      <td>315.49</td>\n",
       "      <td>10</td>\n",
       "    </tr>\n",
       "    <tr>\n",
       "      <th>143</th>\n",
       "      <td>2022-09-26 18:26:00</td>\n",
       "      <td>352500101378</td>\n",
       "      <td>корм д/кошек \"реrfест fiт\" 75 =</td>\n",
       "      <td>30.99</td>\n",
       "      <td>3.0</td>\n",
       "      <td>92.97</td>\n",
       "      <td>9</td>\n",
       "    </tr>\n",
       "    <tr>\n",
       "      <th>142</th>\n",
       "      <td>2022-09-26 18:26:00</td>\n",
       "      <td>352500101378</td>\n",
       "      <td>корм д/кошек \"реrfест fiт\" 75 =</td>\n",
       "      <td>30.99</td>\n",
       "      <td>3.0</td>\n",
       "      <td>92.97</td>\n",
       "      <td>9</td>\n",
       "    </tr>\n",
       "    <tr>\n",
       "      <th>145</th>\n",
       "      <td>2022-09-26 18:26:00</td>\n",
       "      <td>352500101378</td>\n",
       "      <td>корм д/кошек \"реrfест fiт\" 75 =</td>\n",
       "      <td>30.99</td>\n",
       "      <td>3.0</td>\n",
       "      <td>92.97</td>\n",
       "      <td>9</td>\n",
       "    </tr>\n",
       "    <tr>\n",
       "      <th>146</th>\n",
       "      <td>2022-09-26 18:26:00</td>\n",
       "      <td>352500101378</td>\n",
       "      <td>корм д/кошек \"реrfест fiт\" па =</td>\n",
       "      <td>30.99</td>\n",
       "      <td>6.0</td>\n",
       "      <td>185.94</td>\n",
       "      <td>9</td>\n",
       "    </tr>\n",
       "    <tr>\n",
       "      <th>147</th>\n",
       "      <td>2022-09-26 18:26:00</td>\n",
       "      <td>352500101378</td>\n",
       "      <td>корм д/кошек \"реrfест fiт\" па =</td>\n",
       "      <td>30.99</td>\n",
       "      <td>3.0</td>\n",
       "      <td>92.97</td>\n",
       "      <td>9</td>\n",
       "    </tr>\n",
       "    <tr>\n",
       "      <th>144</th>\n",
       "      <td>2022-09-26 18:26:00</td>\n",
       "      <td>352500101378</td>\n",
       "      <td>корм д/кошек \"реrfест fiт\" 75 =</td>\n",
       "      <td>30.99</td>\n",
       "      <td>3.0</td>\n",
       "      <td>92.97</td>\n",
       "      <td>9</td>\n",
       "    </tr>\n",
       "  </tbody>\n",
       "</table>\n",
       "</div>"
      ],
      "text/plain": [
       "               dateTime       userInn                      productName  \\\n",
       "103 2022-09-19 18:53:00  352500101378   корм д/кошек \"реrfест fiт\" 1 =   \n",
       "51  2022-08-26 20:02:00  352500101378   корм д/кошек \"реrfест fiт\" 1 =   \n",
       "254 2022-10-27 13:48:00  352500101378   корм д/кошек \"реrfест fiт\" 1 =   \n",
       "170 2022-10-08 16:41:00  352500101378   корм д/кошек \"реrfест fiт\" 6 =   \n",
       "143 2022-09-26 18:26:00  352500101378  корм д/кошек \"реrfест fiт\" 75 =   \n",
       "142 2022-09-26 18:26:00  352500101378  корм д/кошек \"реrfест fiт\" 75 =   \n",
       "145 2022-09-26 18:26:00  352500101378  корм д/кошек \"реrfест fiт\" 75 =   \n",
       "146 2022-09-26 18:26:00  352500101378  корм д/кошек \"реrfест fiт\" па =   \n",
       "147 2022-09-26 18:26:00  352500101378  корм д/кошек \"реrfест fiт\" па =   \n",
       "144 2022-09-26 18:26:00  352500101378  корм д/кошек \"реrfест fiт\" 75 =   \n",
       "\n",
       "      price  quantity  purchaseAmount  month  \n",
       "103  579.99       1.0          579.99      9  \n",
       "51   559.99       1.0          559.99      8  \n",
       "254  487.19       1.0          487.19     10  \n",
       "170  315.49       1.0          315.49     10  \n",
       "143   30.99       3.0           92.97      9  \n",
       "142   30.99       3.0           92.97      9  \n",
       "145   30.99       3.0           92.97      9  \n",
       "146   30.99       6.0          185.94      9  \n",
       "147   30.99       3.0           92.97      9  \n",
       "144   30.99       3.0           92.97      9  "
      ]
     },
     "execution_count": 23,
     "metadata": {},
     "output_type": "execute_result"
    }
   ],
   "source": [
    "data_active_product_cat \\\n",
    "    .sort_values('price', ascending=False) \\\n",
    "    .head(10)\n",
    "# посмотрим на первые 10 позиций отобранного товара"
   ]
  },
  {
   "cell_type": "markdown",
   "id": "2d12a76c",
   "metadata": {},
   "source": [
    "Отсортированные данные по цене показывают, что `корм д/кошек` имеется не только различной марки, но и различной ценовой категории. В данном случае мы заблаговременно знаем, что корм, стоимостью `свыше 100 руб.` является сухим кормом д/кошек, а корм, стоимостью `ниже 100 руб.` является жидким. Отфильтруем данные и переименуем `productName`.\n",
    "\n",
    "+ корм со стоимостью `>= 100 руб.` переименуем как `сухой корм д/кошек`\n",
    "+ корм со стоимостью `< 100 руб.` переименуем как `жидкий корм д/кошек`"
   ]
  },
  {
   "cell_type": "code",
   "execution_count": 24,
   "id": "19b60c7d",
   "metadata": {},
   "outputs": [],
   "source": [
    "arr_liquid_food = data_active_product_cat \\\n",
    "    .query('price < 100') \\\n",
    "    .productName \\\n",
    "    .unique()\n",
    "# массив наименований сухого корма"
   ]
  },
  {
   "cell_type": "code",
   "execution_count": 25,
   "id": "5f5a8525",
   "metadata": {},
   "outputs": [],
   "source": [
    "arr_dry_food = data_active_product_cat \\\n",
    "    .query('price >= 100') \\\n",
    "    .productName \\\n",
    "    .unique()\n",
    "# массив наименований жидкого корма"
   ]
  },
  {
   "cell_type": "code",
   "execution_count": 26,
   "id": "4406fa11",
   "metadata": {},
   "outputs": [],
   "source": [
    "dict_rename = dict()\n",
    "for val in arr_dry_food:\n",
    "    dict_rename[val] = 'сухой корм д/кошек'\n",
    "# создаем map сухого корма\n",
    "\n",
    "for val in arr_liquid_food:\n",
    "    dict_rename[val] = 'жидкий корм д/кошек'\n",
    "# создаем map жидкого корма"
   ]
  },
  {
   "cell_type": "code",
   "execution_count": 27,
   "id": "886dee07",
   "metadata": {},
   "outputs": [],
   "source": [
    "data_active['productName'] = data_active.productName.replace(dict_rename)"
   ]
  },
  {
   "cell_type": "markdown",
   "id": "85f3741e",
   "metadata": {},
   "source": [
    "После успешного переименования давайте попробуем посмотреть, как часто пользователь покупает данный товар."
   ]
  },
  {
   "cell_type": "code",
   "execution_count": 28,
   "id": "de6a3282",
   "metadata": {},
   "outputs": [],
   "source": [
    "data_prod_cat = data_active[data_active.productName.str.contains('корм д/кошек$', regex=True)]"
   ]
  },
  {
   "cell_type": "code",
   "execution_count": 29,
   "id": "842f683c",
   "metadata": {},
   "outputs": [
    {
     "data": {
      "text/html": [
       "<div>\n",
       "<style scoped>\n",
       "    .dataframe tbody tr th:only-of-type {\n",
       "        vertical-align: middle;\n",
       "    }\n",
       "\n",
       "    .dataframe tbody tr th {\n",
       "        vertical-align: top;\n",
       "    }\n",
       "\n",
       "    .dataframe thead th {\n",
       "        text-align: right;\n",
       "    }\n",
       "</style>\n",
       "<table border=\"1\" class=\"dataframe\">\n",
       "  <thead>\n",
       "    <tr style=\"text-align: right;\">\n",
       "      <th></th>\n",
       "      <th>dateTime</th>\n",
       "      <th>userInn</th>\n",
       "      <th>productName</th>\n",
       "      <th>price</th>\n",
       "      <th>quantity</th>\n",
       "      <th>purchaseAmount</th>\n",
       "      <th>month</th>\n",
       "    </tr>\n",
       "  </thead>\n",
       "  <tbody>\n",
       "    <tr>\n",
       "      <th>0</th>\n",
       "      <td>2022-08-14 14:25:00</td>\n",
       "      <td>352500101378</td>\n",
       "      <td>жидкий корм д/кошек</td>\n",
       "      <td>27.99</td>\n",
       "      <td>3.0</td>\n",
       "      <td>83.97</td>\n",
       "      <td>8</td>\n",
       "    </tr>\n",
       "    <tr>\n",
       "      <th>1</th>\n",
       "      <td>2022-08-14 14:25:00</td>\n",
       "      <td>352500101378</td>\n",
       "      <td>жидкий корм д/кошек</td>\n",
       "      <td>27.99</td>\n",
       "      <td>3.0</td>\n",
       "      <td>83.97</td>\n",
       "      <td>8</td>\n",
       "    </tr>\n",
       "    <tr>\n",
       "      <th>2</th>\n",
       "      <td>2022-08-14 14:25:00</td>\n",
       "      <td>352500101378</td>\n",
       "      <td>жидкий корм д/кошек</td>\n",
       "      <td>27.99</td>\n",
       "      <td>4.0</td>\n",
       "      <td>111.96</td>\n",
       "      <td>8</td>\n",
       "    </tr>\n",
       "    <tr>\n",
       "      <th>28</th>\n",
       "      <td>2022-08-19 10:18:00</td>\n",
       "      <td>352500101378</td>\n",
       "      <td>жидкий корм д/кошек</td>\n",
       "      <td>29.99</td>\n",
       "      <td>4.0</td>\n",
       "      <td>119.96</td>\n",
       "      <td>8</td>\n",
       "    </tr>\n",
       "    <tr>\n",
       "      <th>29</th>\n",
       "      <td>2022-08-19 10:18:00</td>\n",
       "      <td>352500101378</td>\n",
       "      <td>жидкий корм д/кошек</td>\n",
       "      <td>29.99</td>\n",
       "      <td>3.0</td>\n",
       "      <td>89.97</td>\n",
       "      <td>8</td>\n",
       "    </tr>\n",
       "  </tbody>\n",
       "</table>\n",
       "</div>"
      ],
      "text/plain": [
       "              dateTime       userInn          productName  price  quantity  \\\n",
       "0  2022-08-14 14:25:00  352500101378  жидкий корм д/кошек  27.99       3.0   \n",
       "1  2022-08-14 14:25:00  352500101378  жидкий корм д/кошек  27.99       3.0   \n",
       "2  2022-08-14 14:25:00  352500101378  жидкий корм д/кошек  27.99       4.0   \n",
       "28 2022-08-19 10:18:00  352500101378  жидкий корм д/кошек  29.99       4.0   \n",
       "29 2022-08-19 10:18:00  352500101378  жидкий корм д/кошек  29.99       3.0   \n",
       "\n",
       "    purchaseAmount  month  \n",
       "0            83.97      8  \n",
       "1            83.97      8  \n",
       "2           111.96      8  \n",
       "28          119.96      8  \n",
       "29           89.97      8  "
      ]
     },
     "execution_count": 29,
     "metadata": {},
     "output_type": "execute_result"
    }
   ],
   "source": [
    "data_prod_cat.head()"
   ]
  },
  {
   "cell_type": "code",
   "execution_count": 30,
   "id": "bfeb85a1",
   "metadata": {},
   "outputs": [],
   "source": [
    "data_prod_cat_group = data_prod_cat \\\n",
    "    .groupby(['month', 'productName'], as_index=False) \\\n",
    "    .agg({'quantity': 'sum', 'purchaseAmount': 'sum'}) \\\n",
    "    .rename(columns={'productName': 'Наименование товара'})"
   ]
  },
  {
   "cell_type": "code",
   "execution_count": 31,
   "id": "9931b3d0",
   "metadata": {},
   "outputs": [
    {
     "data": {
      "image/png": "[encoded data removed]",
      "text/plain": [
       "<Figure size 1050x350 with 2 Axes>"
      ]
     },
     "metadata": {},
     "output_type": "display_data"
    }
   ],
   "source": [
    "fig, (ax1, ax2) = plt.subplots(ncols=2, nrows=1, figsize=(10.5, 3.5))\n",
    "\n",
    "sns.barplot(\n",
    "                data=data_prod_cat_group,\n",
    "                x='month',\n",
    "                y='quantity',\n",
    "                hue='Наименование товара',\n",
    "                palette=\"Set2\",\n",
    "                ax=ax1\n",
    "            ) # кол-во товаров\n",
    "ax1.set_xlabel('Месяц')\n",
    "ax1.set_ylabel('Количество')\n",
    "\n",
    "sns.barplot(\n",
    "                data=data_prod_cat_group,\n",
    "                x='month',\n",
    "                y='purchaseAmount',\n",
    "                hue='Наименование товара',\n",
    "                palette=\"Set2\",\n",
    "                ax=ax2\n",
    "            ) # сумма покупки\n",
    "ax2.set_xlabel('Месяц')\n",
    "ax2.set_ylabel('Количество')\n",
    "\n",
    "sns.despine()\n",
    "plt.show()"
   ]
  },
  {
   "cell_type": "markdown",
   "id": "8d0ec4cf",
   "metadata": {},
   "source": [
    "По графику мы можем наблюдаеть снижение кол-ва приобретенных товаров `жидкий корм д/кошек`, при этом также наблюдается и снижение выручки по данному товару в разрезе поль"
   ]
  },
  {
   "cell_type": "code",
   "execution_count": null,
   "id": "d1237cd2",
   "metadata": {},
   "outputs": [],
   "source": []
  }
 ],
 "metadata": {
  "kernelspec": {
   "display_name": "Python 3 (ipykernel)",
   "language": "python",
   "name": "python3"
  },
  "language_info": {
   "codemirror_mode": {
    "name": "ipython",
    "version": 3
   },
   "file_extension": ".py",
   "mimetype": "text/x-python",
   "name": "python",
   "nbconvert_exporter": "python",
   "pygments_lexer": "ipython3",
   "version": "3.9.13"
  }
 },
 "nbformat": 4,
 "nbformat_minor": 5
}
