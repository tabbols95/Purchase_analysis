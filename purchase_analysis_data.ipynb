{
 "cells": [
  {
   "cell_type": "markdown",
   "id": "5be2ba89",
   "metadata": {},
   "source": [
    "### Анализ полученных данных"
   ]
  },
  {
   "cell_type": "code",
   "execution_count": 100,
   "id": "b9df6295",
   "metadata": {},
   "outputs": [],
   "source": [
    "import pandas as pd\n",
    "import numpy as np\n",
    "\n",
    "# импорт функций\n",
    "from func_replace_letter import replace_letter as rep_let\n",
    "\n",
    "# визуализация данных\n",
    "import seaborn as sns\n",
    "import matplotlib.pyplot as plt\n",
    "\n",
    "%matplotlib inline"
   ]
  },
  {
   "cell_type": "code",
   "execution_count": 101,
   "id": "a0361385",
   "metadata": {},
   "outputs": [],
   "source": [
    "data = pd.read_csv('data.csv', sep=';')"
   ]
  },
  {
   "cell_type": "code",
   "execution_count": 102,
   "id": "b726ad79",
   "metadata": {},
   "outputs": [],
   "source": [
    "data['dateTime'] = pd.to_datetime(data.dateTime, format='%Y-%m-%d %H:%M:%S')\n",
    "# переводим столбец в формат даты и времени"
   ]
  },
  {
   "cell_type": "markdown",
   "id": "edfc610f",
   "metadata": {},
   "source": [
    "Далее не много посмотрим на данные. В результате предварительного анализа, можем обнаружить, что наши данные имеют не корректное представление. Некоторые схожие с русскими буквами представлены на английском языке. Для того, чтобы это обнаружить, воспользуемся функцией `lower()`, которая переводит все символы в нижний регистр."
   ]
  },
  {
   "cell_type": "code",
   "execution_count": 103,
   "id": "b611c0cf",
   "metadata": {},
   "outputs": [
    {
     "data": {
      "text/plain": [
       "0           cалаt \"oлиbьe\" (сoбствeh =\n",
       "1      шоkoлад (мон' дэлис руcь) \"ми =\n",
       "2      печеньe (тулa) maффин \"ильинс =\n",
       "3      cыpоk глазир. (б.ю.aлеkсahдpо =\n",
       "4      бx: бymагa тyалетhая \"mягkий  =\n",
       "                    ...               \n",
       "321         п/ф карбoнад cвиhoй (п/ф =\n",
       "322         pыба koпч.(арт-pыба) 3уб =\n",
       "323    cmetahа (toтьмa) \"boлогoдская =\n",
       "324    cmеtаhа (тотьma) \"bолoгoдckaя =\n",
       "325     твоpoг (тотьмa) oбeзжирehhый =\n",
       "Name: productName, Length: 326, dtype: object"
      ]
     },
     "execution_count": 103,
     "metadata": {},
     "output_type": "execute_result"
    }
   ],
   "source": [
    "data.productName.str.lower()"
   ]
  },
  {
   "cell_type": "markdown",
   "id": "97a22860",
   "metadata": {},
   "source": [
    "Чтобы устранить не корректный ввод данных, создадим функцию `replace_letter`, которая заменяет английские символы на русские `k -> к` и возвращает исправленное наименование товара в нижнем регистре.\n",
    "\n",
    "Функция описана в файле `func_replace_letter.py`"
   ]
  },
  {
   "cell_type": "code",
   "execution_count": 106,
   "id": "0877bc82",
   "metadata": {},
   "outputs": [],
   "source": [
    "data['productName'] = data.productName.apply(rep_let)"
   ]
  },
  {
   "cell_type": "code",
   "execution_count": 107,
   "id": "b8c70d60",
   "metadata": {},
   "outputs": [
    {
     "name": "stdout",
     "output_type": "stream",
     "text": [
      "Всего кол-во позиций:\t326\n",
      "Всего кол-во чеков:\t84\n"
     ]
    }
   ],
   "source": [
    "print('Всего кол-во позиций:', data.shape[0], sep='\\t')\n",
    "# обратим внимание, что мы имеем 326 уникальных позиций товара\n",
    "print('Всего кол-во чеков:', data.dateTime.nunique(), sep='\\t')\n",
    "# а также данные содержат всего 84 чека в промежутке с 1 апр.2022 по 8 нояб.2022"
   ]
  },
  {
   "cell_type": "markdown",
   "id": "15898f63",
   "metadata": {},
   "source": [
    "Данные загружены и отредактированы. С 1 апреля по 8 ноября имеется всего 84 чека, что является незначительным для такого промежутка времени. Сгруппируем данные по дате и визуализируем общую сумму покупок в каждом месяце."
   ]
  },
  {
   "cell_type": "code",
   "execution_count": 110,
   "id": "6321aa35",
   "metadata": {},
   "outputs": [],
   "source": [
    "data_group_date = data \\\n",
    "    .groupby('dateTime', as_index=False) \\\n",
    "    .agg({'purchaseAmount': 'sum'})"
   ]
  },
  {
   "cell_type": "code",
   "execution_count": 111,
   "id": "90a903f3",
   "metadata": {},
   "outputs": [],
   "source": [
    "data_group_month = data.set_index(data.dateTime).purchaseAmount.resample('M').sum().to_frame().reset_index()"
   ]
  },
  {
   "cell_type": "code",
   "execution_count": 112,
   "id": "d6719f19",
   "metadata": {},
   "outputs": [
    {
     "data": {
      "image/png": "[encoded data removed]",
      "text/plain": [
       "<Figure size 1050x450 with 1 Axes>"
      ]
     },
     "metadata": {},
     "output_type": "display_data"
    }
   ],
   "source": [
    "plt.figure(figsize=(10.5, 4.5))\n",
    "ax = sns.barplot(data=data_group_month, x='dateTime', y='purchaseAmount',\n",
    "                 palette=\"flare\") # строим график\n",
    "ax.set(xlabel='Дата покупки', ylabel='Сумма покупки', title='Динамика покупок') # именуем оси, наименовние графика\n",
    "ax.set_xticklabels(data_group_month.dateTime.dt.date)\n",
    "sns.despine() # убираем часть рамки\n",
    "plt.show() # печатаем график"
   ]
  },
  {
   "cell_type": "markdown",
   "id": "d2c6988d",
   "metadata": {},
   "source": [
    "По данному графику можно сделать вывод, что с `апреля` по `июль` кол-во покупок незначительно, поэтому для дальнейшего анализа оставим в выборке значения с `августа 2022` года."
   ]
  }
 ],
 "metadata": {
  "kernelspec": {
   "display_name": "Python 3 (ipykernel)",
   "language": "python",
   "name": "python3"
  },
  "language_info": {
   "codemirror_mode": {
    "name": "ipython",
    "version": 3
   },
   "file_extension": ".py",
   "mimetype": "text/x-python",
   "name": "python",
   "nbconvert_exporter": "python",
   "pygments_lexer": "ipython3",
   "version": "3.9.13"
  }
 },
 "nbformat": 4,
 "nbformat_minor": 5
}
