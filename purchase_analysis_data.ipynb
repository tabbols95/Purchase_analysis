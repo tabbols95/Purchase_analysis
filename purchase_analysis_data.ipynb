{
 "cells": [
  {
   "cell_type": "code",
   "execution_count": 1,
   "id": "75484f77",
   "metadata": {},
   "outputs": [],
   "source": [
    "import pandas as pd\n",
    "import numpy as np\n",
    "\n",
    "# визуализация данных\n",
    "import seaborn as sns\n",
    "import matplotlib.pyplot as plt\n",
    "\n",
    "%matplotlib inline"
   ]
  },
  {
   "cell_type": "code",
   "execution_count": 2,
   "id": "2a30ec84",
   "metadata": {},
   "outputs": [],
   "source": [
    "data = pd.read_csv('data.csv', sep=';')"
   ]
  },
  {
   "cell_type": "code",
   "execution_count": 3,
   "id": "06ab61cb",
   "metadata": {},
   "outputs": [],
   "source": [
    "data['dateTime'] = pd.to_datetime(data.dateTime, format='%Y-%m-%d %H:%M:%S')\n",
    "# переводим столбец в формат даты и времени"
   ]
  },
  {
   "cell_type": "code",
   "execution_count": 4,
   "id": "dcdd703c",
   "metadata": {},
   "outputs": [
    {
     "data": {
      "text/plain": [
       "0           cалаt \"oлиbьe\" (сoбствeh =\n",
       "1      шоkoлад (мон' дэлис руcь) \"ми =\n",
       "2      печеньe (тулa) maффин \"ильинс =\n",
       "3      cыpоk глазир. (б.ю.aлеkсahдpо =\n",
       "4      бx: бymагa тyалетhая \"mягkий  =\n",
       "                    ...               \n",
       "321         п/ф карбoнад cвиhoй (п/ф =\n",
       "322         pыба koпч.(арт-pыба) 3уб =\n",
       "323    cmetahа (toтьмa) \"boлогoдская =\n",
       "324    cmеtаhа (тотьma) \"bолoгoдckaя =\n",
       "325     твоpoг (тотьмa) oбeзжирehhый =\n",
       "Name: productName, Length: 326, dtype: object"
      ]
     },
     "execution_count": 4,
     "metadata": {},
     "output_type": "execute_result"
    }
   ],
   "source": [
    "data.productName.str.lower()\n",
    "# обнаруживаем, что в записи данных имеются не корректные представления"
   ]
  },
  {
   "cell_type": "code",
   "execution_count": 5,
   "id": "62bb5f8c",
   "metadata": {},
   "outputs": [],
   "source": [
    "def replace_letter(no_correct_data):\n",
    "    correct_data = no_correct_data.lower() \\\n",
    "        .replace('a', 'а') \\\n",
    "        .replace('b', 'в') \\\n",
    "        .replace('c', 'с') \\\n",
    "        .replace('e', 'е') \\\n",
    "        .replace('h', 'н') \\\n",
    "        .replace('k', 'к') \\\n",
    "        .replace('m', 'м') \\\n",
    "        .replace('o', 'о') \\\n",
    "        .replace('p', 'р') \\\n",
    "        .replace('t', 'т') \\\n",
    "        .replace('x', 'х') \\\n",
    "        .replace('y', 'у') \\\n",
    "        .replace('3', 'з')\n",
    "    return correct_data"
   ]
  },
  {
   "cell_type": "code",
   "execution_count": 6,
   "id": "39a9eec6",
   "metadata": {},
   "outputs": [],
   "source": [
    "data['productName'] = data.productName.apply(replace_letter)"
   ]
  },
  {
   "cell_type": "code",
   "execution_count": 7,
   "id": "24bd2083",
   "metadata": {},
   "outputs": [
    {
     "name": "stdout",
     "output_type": "stream",
     "text": [
      "Всего кол-во позиций:\t326\n",
      "Всего кол-во чеков:\t84\n"
     ]
    }
   ],
   "source": [
    "print('Всего кол-во позиций:', data.shape[0], sep='\\t')\n",
    "# обратим внимание, что мы имеем 326 уникальных позиций товара\n",
    "print('Всего кол-во чеков:', data.dateTime.nunique(), sep='\\t')\n",
    "# а также данные содержат всего 84 чека в промежутке с 1 апр.2022 по 8 нояб.2022"
   ]
  },
  {
   "cell_type": "code",
   "execution_count": 8,
   "id": "be35c01d",
   "metadata": {},
   "outputs": [],
   "source": [
    "data_group_date = data \\\n",
    "    .groupby('dateTime', as_index=False) \\\n",
    "    .agg({'purchaseAmount': 'sum'})"
   ]
  },
  {
   "cell_type": "code",
   "execution_count": 39,
   "id": "2fd5053f",
   "metadata": {},
   "outputs": [],
   "source": [
    "data_group_month = data.set_index(data.dateTime).purchaseAmount.resample('M').sum().to_frame().reset_index()"
   ]
  },
  {
   "cell_type": "code",
   "execution_count": 46,
   "id": "884df196",
   "metadata": {},
   "outputs": [
    {
     "data": {
      "text/plain": [
       "0     4\n",
       "1     5\n",
       "2     6\n",
       "3     7\n",
       "4     8\n",
       "5     9\n",
       "6    10\n",
       "7    11\n",
       "Name: dateTime, dtype: int64"
      ]
     },
     "execution_count": 46,
     "metadata": {},
     "output_type": "execute_result"
    }
   ],
   "source": [
    "data_group_month.dateTime.dt.month"
   ]
  },
  {
   "cell_type": "code",
   "execution_count": 49,
   "id": "885a9352",
   "metadata": {},
   "outputs": [
    {
     "data": {
      "image/png": "[encoded data removed]",
      "text/plain": [
       "<Figure size 1200x800 with 1 Axes>"
      ]
     },
     "metadata": {},
     "output_type": "display_data"
    }
   ],
   "source": [
    "plt.figure(figsize=(12, 8))\n",
    "ax = sns.barplot(data=data_group_month, x='dateTime', y='purchaseAmount',\n",
    "                 palette=\"flare\") # строим график\n",
    "ax.set(xlabel='Дата покупки', ylabel='Сумма покупки', title='Динамика покупок') # именуем оси, наименовние графика\n",
    "ax.set_xticklabels(data_group_month.dateTime.dt.date)\n",
    "sns.despine() # убираем часть рамки\n",
    "plt.show() # печатаем график"
   ]
  },
  {
   "cell_type": "markdown",
   "id": "69fae6df",
   "metadata": {},
   "source": [
    "По данному графику можно сделать вывод, что с `апреля` по `июль` кол-во покупок незначительно, поэтому для дальнейшего анализа оставим в выборке значения с `августа` 2022 года."
   ]
  },
  {
   "cell_type": "code",
   "execution_count": null,
   "id": "52829028",
   "metadata": {},
   "outputs": [],
   "source": []
  }
 ],
 "metadata": {
  "kernelspec": {
   "display_name": "Python 3 (ipykernel)",
   "language": "python",
   "name": "python3"
  },
  "language_info": {
   "codemirror_mode": {
    "name": "ipython",
    "version": 3
   },
   "file_extension": ".py",
   "mimetype": "text/x-python",
   "name": "python",
   "nbconvert_exporter": "python",
   "pygments_lexer": "ipython3",
   "version": "3.9.13"
  }
 },
 "nbformat": 4,
 "nbformat_minor": 5
}
