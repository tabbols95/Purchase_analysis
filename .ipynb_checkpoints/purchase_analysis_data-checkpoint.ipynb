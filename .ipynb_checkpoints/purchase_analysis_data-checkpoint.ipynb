{
 "cells": [
  {
   "cell_type": "code",
   "execution_count": 85,
   "id": "12315687",
   "metadata": {},
   "outputs": [],
   "source": [
    "import pandas as pd\n",
    "import numpy as np"
   ]
  },
  {
   "cell_type": "code",
   "execution_count": 3,
   "id": "ea10992e",
   "metadata": {},
   "outputs": [],
   "source": [
    "data = pd.read_csv('data.csv', sep=';')"
   ]
  },
  {
   "cell_type": "code",
   "execution_count": 11,
   "id": "e5e91168",
   "metadata": {},
   "outputs": [],
   "source": [
    "data['dateTime'] = pd.to_datetime(data.dateTime, format='%Y-%m-%d %H:%M:%S')\n",
    "# переводим столбец в формат даты и времени"
   ]
  },
  {
   "cell_type": "code",
   "execution_count": 26,
   "id": "361d3d10",
   "metadata": {},
   "outputs": [
    {
     "data": {
      "text/plain": [
       "0           cалаt \"oлиbьe\" (сoбствeh =\n",
       "1      шоkoлад (мон' дэлис руcь) \"ми =\n",
       "2      печеньe (тулa) maффин \"ильинс =\n",
       "3      cыpоk глазир. (б.ю.aлеkсahдpо =\n",
       "4      бx: бymагa тyалетhая \"mягkий  =\n",
       "                    ...               \n",
       "321         п/ф карбoнад cвиhoй (п/ф =\n",
       "322         pыба koпч.(арт-pыба) 3уб =\n",
       "323    cmetahа (toтьмa) \"boлогoдская =\n",
       "324    cmеtаhа (тотьma) \"bолoгoдckaя =\n",
       "325     твоpoг (тотьмa) oбeзжирehhый =\n",
       "Name: productName, Length: 326, dtype: object"
      ]
     },
     "execution_count": 26,
     "metadata": {},
     "output_type": "execute_result"
    }
   ],
   "source": [
    "data.productName.str.lower()\n",
    "# обнаруживаем, что в записи данных имеются не корректные представления"
   ]
  },
  {
   "cell_type": "code",
   "execution_count": 78,
   "id": "2b846f90",
   "metadata": {},
   "outputs": [],
   "source": [
    "def replace_letter(no_correct_data):\n",
    "    correct_data = no_correct_data.lower() \\\n",
    "        .replace('a', 'а') \\\n",
    "        .replace('b', 'в') \\\n",
    "        .replace('c', 'с') \\\n",
    "        .replace('e', 'е') \\\n",
    "        .replace('h', 'н') \\\n",
    "        .replace('k', 'к') \\\n",
    "        .replace('m', 'м') \\\n",
    "        .replace('o', 'о') \\\n",
    "        .replace('p', 'р') \\\n",
    "        .replace('t', 'т') \\\n",
    "        .replace('x', 'х') \\\n",
    "        .replace('y', 'у') \\\n",
    "        .replace('3', 'з')\n",
    "    return correct_data"
   ]
  },
  {
   "cell_type": "code",
   "execution_count": 82,
   "id": "2e66a6d4",
   "metadata": {},
   "outputs": [],
   "source": [
    "data['productName'] = data.productName.apply(replace_letter)"
   ]
  },
  {
   "cell_type": "code",
   "execution_count": null,
   "id": "37a4e4e0",
   "metadata": {},
   "outputs": [],
   "source": []
  }
 ],
 "metadata": {
  "kernelspec": {
   "display_name": "Python 3 (ipykernel)",
   "language": "python",
   "name": "python3"
  },
  "language_info": {
   "codemirror_mode": {
    "name": "ipython",
    "version": 3
   },
   "file_extension": ".py",
   "mimetype": "text/x-python",
   "name": "python",
   "nbconvert_exporter": "python",
   "pygments_lexer": "ipython3",
   "version": "3.9.13"
  }
 },
 "nbformat": 4,
 "nbformat_minor": 5
}
