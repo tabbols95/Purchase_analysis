{
 "cells": [
  {
   "cell_type": "code",
   "execution_count": 1,
   "id": "d6d4f59c",
   "metadata": {},
   "outputs": [],
   "source": [
    "import pandas as pd\n",
    "import numpy as np\n",
    "import json"
   ]
  },
  {
   "cell_type": "code",
   "execution_count": 2,
   "id": "2b089e67",
   "metadata": {},
   "outputs": [],
   "source": [
    "inn = 352500101378"
   ]
  },
  {
   "cell_type": "code",
   "execution_count": 3,
   "id": "13383ae1",
   "metadata": {},
   "outputs": [],
   "source": [
    "f = open('data.json', encoding='utf-8')"
   ]
  },
  {
   "cell_type": "code",
   "execution_count": 4,
   "id": "29de57c8",
   "metadata": {},
   "outputs": [],
   "source": [
    "data = json.load(f)"
   ]
  },
  {
   "cell_type": "code",
   "execution_count": 5,
   "id": "d0c356d6",
   "metadata": {},
   "outputs": [],
   "source": [
    "f.close()"
   ]
  },
  {
   "cell_type": "code",
   "execution_count": 6,
   "id": "e4add0f6",
   "metadata": {},
   "outputs": [],
   "source": [
    "arr_data = []\n",
    "for check in data:\n",
    "    receipt = check['ticket']['document']['receipt']\n",
    "    products = receipt['items']\n",
    "    userInn = receipt['userInn']\n",
    "    dateTime = receipt['dateTime']\n",
    "    for product in products:\n",
    "        name = product['name']\n",
    "        price = product['price']\n",
    "        quantity = product['quantity']\n",
    "        arr_data.append([dateTime, userInn, name, price, quantity])"
   ]
  },
  {
   "cell_type": "code",
   "execution_count": 7,
   "id": "3529e0b0",
   "metadata": {},
   "outputs": [],
   "source": [
    "df = pd.DataFrame(arr_data, columns=['dateTime', 'userInn', 'productName', 'price', 'quantity']) \\\n",
    "    .astype({'dateTime': np.datetime64, 'userInn': np.int64, 'price': np.float64, 'quantity': np.float64})"
   ]
  },
  {
   "cell_type": "code",
   "execution_count": 8,
   "id": "7638f5da",
   "metadata": {},
   "outputs": [],
   "source": [
    "df['price'] = df['price'] / 100\n",
    "# переведем стоимость в рубли"
   ]
  },
  {
   "cell_type": "code",
   "execution_count": 9,
   "id": "3c4644ac",
   "metadata": {},
   "outputs": [],
   "source": [
    "df = df.assign(purchaseAmount = round(df.price * df.quantity, 2))\n",
    "# рассчитаем стоимость каждой позиции"
   ]
  },
  {
   "cell_type": "code",
   "execution_count": 10,
   "id": "c9254e8d",
   "metadata": {},
   "outputs": [],
   "source": [
    "df = df.query('userInn==@inn')\n",
    "# отбираем только данные по интересующему магазину, по которому будет сделан прогноз"
   ]
  },
  {
   "cell_type": "code",
   "execution_count": 11,
   "id": "5ae605c1",
   "metadata": {},
   "outputs": [],
   "source": [
    "df.to_csv('data.csv', sep=';', index=False)"
   ]
  },
  {
   "cell_type": "code",
   "execution_count": null,
   "id": "406dfaae",
   "metadata": {},
   "outputs": [],
   "source": []
  }
 ],
 "metadata": {
  "kernelspec": {
   "display_name": "Python 3 (ipykernel)",
   "language": "python",
   "name": "python3"
  },
  "language_info": {
   "codemirror_mode": {
    "name": "ipython",
    "version": 3
   },
   "file_extension": ".py",
   "mimetype": "text/x-python",
   "name": "python",
   "nbconvert_exporter": "python",
   "pygments_lexer": "ipython3",
   "version": "3.9.13"
  }
 },
 "nbformat": 4,
 "nbformat_minor": 5
}
